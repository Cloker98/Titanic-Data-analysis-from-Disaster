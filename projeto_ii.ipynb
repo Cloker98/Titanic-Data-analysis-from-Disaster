{
 "cells": [
  {
   "cell_type": "markdown",
   "metadata": {},
   "source": [
    "# Titanic - Projeto Final\n",
    "\n",
    "## Introdução\n",
    "\n",
    "   O RMS Titanic foi um luxuoso transatlântico que afundou após colidir com um iceberg no Oceano Atlântico. O navio partiu em sua viagem inaugural de Southampton para Nova Iorque no dia 10 de abril de 1912, no caminho realizou paradas em Cherbourg-Octeville na França e em Queenstown na Irlanda. Ele colidiu com um iceberg às 23:40min do dia 14 de abril e afundou na madrugada do dia 15, dos 2.224 passageiros a bordo, mais de 1500 pessoas morreram afogadas ou por conta do frio. Desta forma, ficou conhecido como um dos piores desastres marítimos da história.\n",
    "\n",
    "O conjunto de dados a ser estudado possui informações acerca dos passageiros a bordo do RMS Titanic. Os atributos que compõem esses dados são:\n",
    "\n",
    "- \"Passenger ID\" (Identidade do passageiro);\n",
    "- \"Survived\" (atributo que identifica se o passageiro sobreviveu ou não ao acidente, se o argumento for igual a '1' o tripulante sobreviveu, já se o valor for igual a '0' o passageiro morreu no incidente);\n",
    "- \"Pclass\" (atributo que identifica a classe do passageiro, 1st = primeira classe, 2nd = segunda classe, 3rd = terceira classe);\n",
    "- \"Name\" (nome do passageiro);\n",
    "- \"Sex\" (sexo do tripulante, male = masculino e female = feminino);\n",
    "- \"Age\" (idade do passageiro);\n",
    "- \"SibSp\" é o número de irmãos / cônjuges a bordo do Titanic, esse atributo define relações familiares dessa maneira: \"Sibling\" = irmão, irmã, meio-irmão, irmã adotiva. \"Spouse\" = marido, esposa (amantes e noivas foram ignorados);\n",
    "- \"Parch\" é o número de pais / filhos a bordo do Titanic, esse atributo define relações familiares dessa maneira: \"Parent\" = mãe, pai;. \"Child\" = filha, filho, enteada, enteado. Algumas crianças viajaram apenas com uma babá, portanto parch = 0 para elas;\n",
    "- \"Ticket\" é o número do bilhete de embarque;\n",
    "- \"Fare\" é a tarifa de passageiro;\n",
    "- \"Cabin\" é o número da cabine;\n",
    "- \"Embarked\" é o porto que o passageiro embarcou (porto de embarque, C = Cherbourg, Q = Queenstown, S = Southampton).\n",
    " \n",
    "Essas informações são fornecidas pela Kaggle, pelo Wikipedia e pelo History. Um estudo minucioso com esses dados será realizado, afim de investigar perguntas relevantes ao incidente do RMS Titanic, desta forma alcançando conclusões."
   ]
  },
  {
   "cell_type": "code",
   "execution_count": 1,
   "metadata": {},
   "outputs": [],
   "source": [
    "# Os imports, que vamos usar para realizarmos as análises \n",
    "# também pode-se usar outras bibliotecas se desejar.\n",
    "import pandas as pd\n",
    "import numpy as np\n",
    "import matplotlib.pyplot as plt\n",
    "import seaborn as sns\n",
    "%matplotlib inline"
   ]
  },
  {
   "cell_type": "code",
   "execution_count": 2,
   "metadata": {
    "scrolled": true
   },
   "outputs": [
    {
     "data": {
      "text/html": [
       "<div>\n",
       "<style scoped>\n",
       "    .dataframe tbody tr th:only-of-type {\n",
       "        vertical-align: middle;\n",
       "    }\n",
       "\n",
       "    .dataframe tbody tr th {\n",
       "        vertical-align: top;\n",
       "    }\n",
       "\n",
       "    .dataframe thead th {\n",
       "        text-align: right;\n",
       "    }\n",
       "</style>\n",
       "<table border=\"1\" class=\"dataframe\">\n",
       "  <thead>\n",
       "    <tr style=\"text-align: right;\">\n",
       "      <th></th>\n",
       "      <th>PassengerId</th>\n",
       "      <th>Survived</th>\n",
       "      <th>Pclass</th>\n",
       "      <th>Name</th>\n",
       "      <th>Sex</th>\n",
       "      <th>Age</th>\n",
       "      <th>SibSp</th>\n",
       "      <th>Parch</th>\n",
       "      <th>Ticket</th>\n",
       "      <th>Fare</th>\n",
       "      <th>Cabin</th>\n",
       "      <th>Embarked</th>\n",
       "    </tr>\n",
       "  </thead>\n",
       "  <tbody>\n",
       "    <tr>\n",
       "      <th>0</th>\n",
       "      <td>1</td>\n",
       "      <td>0</td>\n",
       "      <td>3</td>\n",
       "      <td>Braund, Mr. Owen Harris</td>\n",
       "      <td>male</td>\n",
       "      <td>22.0</td>\n",
       "      <td>1</td>\n",
       "      <td>0</td>\n",
       "      <td>A/5 21171</td>\n",
       "      <td>7.2500</td>\n",
       "      <td>NaN</td>\n",
       "      <td>S</td>\n",
       "    </tr>\n",
       "    <tr>\n",
       "      <th>1</th>\n",
       "      <td>2</td>\n",
       "      <td>1</td>\n",
       "      <td>1</td>\n",
       "      <td>Cumings, Mrs. John Bradley (Florence Briggs Th...</td>\n",
       "      <td>female</td>\n",
       "      <td>38.0</td>\n",
       "      <td>1</td>\n",
       "      <td>0</td>\n",
       "      <td>PC 17599</td>\n",
       "      <td>71.2833</td>\n",
       "      <td>C85</td>\n",
       "      <td>C</td>\n",
       "    </tr>\n",
       "    <tr>\n",
       "      <th>2</th>\n",
       "      <td>3</td>\n",
       "      <td>1</td>\n",
       "      <td>3</td>\n",
       "      <td>Heikkinen, Miss. Laina</td>\n",
       "      <td>female</td>\n",
       "      <td>26.0</td>\n",
       "      <td>0</td>\n",
       "      <td>0</td>\n",
       "      <td>STON/O2. 3101282</td>\n",
       "      <td>7.9250</td>\n",
       "      <td>NaN</td>\n",
       "      <td>S</td>\n",
       "    </tr>\n",
       "    <tr>\n",
       "      <th>3</th>\n",
       "      <td>4</td>\n",
       "      <td>1</td>\n",
       "      <td>1</td>\n",
       "      <td>Futrelle, Mrs. Jacques Heath (Lily May Peel)</td>\n",
       "      <td>female</td>\n",
       "      <td>35.0</td>\n",
       "      <td>1</td>\n",
       "      <td>0</td>\n",
       "      <td>113803</td>\n",
       "      <td>53.1000</td>\n",
       "      <td>C123</td>\n",
       "      <td>S</td>\n",
       "    </tr>\n",
       "    <tr>\n",
       "      <th>4</th>\n",
       "      <td>5</td>\n",
       "      <td>0</td>\n",
       "      <td>3</td>\n",
       "      <td>Allen, Mr. William Henry</td>\n",
       "      <td>male</td>\n",
       "      <td>35.0</td>\n",
       "      <td>0</td>\n",
       "      <td>0</td>\n",
       "      <td>373450</td>\n",
       "      <td>8.0500</td>\n",
       "      <td>NaN</td>\n",
       "      <td>S</td>\n",
       "    </tr>\n",
       "  </tbody>\n",
       "</table>\n",
       "</div>"
      ],
      "text/plain": [
       "   PassengerId  Survived  Pclass  \\\n",
       "0            1         0       3   \n",
       "1            2         1       1   \n",
       "2            3         1       3   \n",
       "3            4         1       1   \n",
       "4            5         0       3   \n",
       "\n",
       "                                                Name     Sex   Age  SibSp  \\\n",
       "0                            Braund, Mr. Owen Harris    male  22.0      1   \n",
       "1  Cumings, Mrs. John Bradley (Florence Briggs Th...  female  38.0      1   \n",
       "2                             Heikkinen, Miss. Laina  female  26.0      0   \n",
       "3       Futrelle, Mrs. Jacques Heath (Lily May Peel)  female  35.0      1   \n",
       "4                           Allen, Mr. William Henry    male  35.0      0   \n",
       "\n",
       "   Parch            Ticket     Fare Cabin Embarked  \n",
       "0      0         A/5 21171   7.2500   NaN        S  \n",
       "1      0          PC 17599  71.2833   C85        C  \n",
       "2      0  STON/O2. 3101282   7.9250   NaN        S  \n",
       "3      0            113803  53.1000  C123        S  \n",
       "4      0            373450   8.0500   NaN        S  "
      ]
     },
     "execution_count": 2,
     "metadata": {},
     "output_type": "execute_result"
    }
   ],
   "source": [
    "# Abra o arquivo CSV e mostre algumas linhas\n",
    "df_titanic = pd.read_csv('titanic-data-6.csv')\n",
    "df_titanic.head()"
   ]
  },
  {
   "cell_type": "markdown",
   "metadata": {},
   "source": [
    "## Perguntas\n",
    "\n",
    "Foram elaboradas 5 perguntas a serem estudadas nesse documento:\n",
    "\n",
    "- Qual a idade média das pessoas que obtiveram sucesso em sobreviver ao acidente?\n",
    "Essa pergunta será útil para identificar a faixa etária média das pessoas que sobreviveram ao acidente.\n",
    "- As pessoas de qual sexo obtiveram mais sucesso em sobreviver ao incidente?\n",
    "Essa pergunta ajudará a identificar qual o gênero que teve a maior taxa de sobrevivência.\n",
    "- As pessoas de qual classe obtiveram mais sucesso em sobreviver ao acidente?\n",
    "Essa pergunta identificará a classe que teve mais sobreviventes no incidente.\n",
    "- Quantos passageiros possuiam parentes relativos que embarcaram no Titanic e quantos desses passageiros sobreviveram?\n",
    "Poderemos visualizar quantos parentes relativos sobreviveram, para assim dizer se uma pessoa perdeu familiares no incidente.\n",
    "- Que atributos estão associados a uma maior taxa de sobrevivência?\n",
    "Identificaremos os atributos que influenciaram na sobrevivência dos passageiros do RMS Titanic.\n"
   ]
  },
  {
   "cell_type": "markdown",
   "metadata": {},
   "source": [
    "## Limpeza dos dados\n",
    "\n",
    "Eliminaremos as colunas \"Embarked\", \"Ticket\", \"Fare\" e \"Cabin\" pois não serão necessários para responder as perguntas, sendo desta forma dados dispensaveis na nossa análise, pois não retornaram nenhuma informação relevante e devido a alguns desses estarem incompletos.\n",
    "\n",
    "## Descartando colunas irrelevantes"
   ]
  },
  {
   "cell_type": "code",
   "execution_count": 3,
   "metadata": {
    "scrolled": true
   },
   "outputs": [
    {
     "data": {
      "text/html": [
       "<div>\n",
       "<style scoped>\n",
       "    .dataframe tbody tr th:only-of-type {\n",
       "        vertical-align: middle;\n",
       "    }\n",
       "\n",
       "    .dataframe tbody tr th {\n",
       "        vertical-align: top;\n",
       "    }\n",
       "\n",
       "    .dataframe thead th {\n",
       "        text-align: right;\n",
       "    }\n",
       "</style>\n",
       "<table border=\"1\" class=\"dataframe\">\n",
       "  <thead>\n",
       "    <tr style=\"text-align: right;\">\n",
       "      <th></th>\n",
       "      <th>PassengerId</th>\n",
       "      <th>Survived</th>\n",
       "      <th>Pclass</th>\n",
       "      <th>Name</th>\n",
       "      <th>Sex</th>\n",
       "      <th>Age</th>\n",
       "      <th>SibSp</th>\n",
       "      <th>Parch</th>\n",
       "    </tr>\n",
       "  </thead>\n",
       "  <tbody>\n",
       "    <tr>\n",
       "      <th>0</th>\n",
       "      <td>1</td>\n",
       "      <td>0</td>\n",
       "      <td>3</td>\n",
       "      <td>Braund, Mr. Owen Harris</td>\n",
       "      <td>male</td>\n",
       "      <td>22.0</td>\n",
       "      <td>1</td>\n",
       "      <td>0</td>\n",
       "    </tr>\n",
       "  </tbody>\n",
       "</table>\n",
       "</div>"
      ],
      "text/plain": [
       "   PassengerId  Survived  Pclass                     Name   Sex   Age  SibSp  \\\n",
       "0            1         0       3  Braund, Mr. Owen Harris  male  22.0      1   \n",
       "\n",
       "   Parch  \n",
       "0      0  "
      ]
     },
     "execution_count": 3,
     "metadata": {},
     "output_type": "execute_result"
    }
   ],
   "source": [
    "# Realizamos a limpeza dos dados aqui\n",
    "# descartamos colunas do conjunto de dados de 'titanic-data-6.csv'\n",
    "df_titanic.drop(['Embarked', 'Ticket', 'Fare', 'Cabin'], axis=1, inplace=True)\n",
    " \n",
    "# visualizamos as mudanças, para confirmarmos as alterações.\n",
    "df_titanic.head(1)"
   ]
  },
  {
   "cell_type": "markdown",
   "metadata": {},
   "source": [
    " ## Dados duplicados\n",
    " \n",
    " Vamos verificar o número de dados duplicados com duplicated()"
   ]
  },
  {
   "cell_type": "code",
   "execution_count": 4,
   "metadata": {
    "scrolled": true
   },
   "outputs": [
    {
     "name": "stdout",
     "output_type": "stream",
     "text": [
      "Dados duplicados em titanic: 0\n"
     ]
    }
   ],
   "source": [
    "# exiba o número de duplicatas nos conjunto de dados do Titanic\n",
    "print(\"Dados duplicados em titanic: {0}\".format(df_titanic.duplicated().sum()))"
   ]
  },
  {
   "cell_type": "markdown",
   "metadata": {},
   "source": [
    "## Dados Faltantes\n",
    "\n",
    "Vamos verificar as colunas que têm valores ausentes com info(), e depois vamos contar quantos valores faltam em cada atributo com isnull().sum()"
   ]
  },
  {
   "cell_type": "code",
   "execution_count": 5,
   "metadata": {},
   "outputs": [
    {
     "name": "stdout",
     "output_type": "stream",
     "text": [
      "<class 'pandas.core.frame.DataFrame'>\n",
      "RangeIndex: 891 entries, 0 to 890\n",
      "Data columns (total 8 columns):\n",
      "PassengerId    891 non-null int64\n",
      "Survived       891 non-null int64\n",
      "Pclass         891 non-null int64\n",
      "Name           891 non-null object\n",
      "Sex            891 non-null object\n",
      "Age            714 non-null float64\n",
      "SibSp          891 non-null int64\n",
      "Parch          891 non-null int64\n",
      "dtypes: float64(1), int64(5), object(2)\n",
      "memory usage: 55.8+ KB\n"
     ]
    }
   ],
   "source": [
    "# exibe as colunas com valores ausentes\n",
    "df_titanic.info()"
   ]
  },
  {
   "cell_type": "code",
   "execution_count": 6,
   "metadata": {
    "scrolled": true
   },
   "outputs": [
    {
     "data": {
      "text/plain": [
       "PassengerId      0\n",
       "Survived         0\n",
       "Pclass           0\n",
       "Name             0\n",
       "Sex              0\n",
       "Age            177\n",
       "SibSp            0\n",
       "Parch            0\n",
       "dtype: int64"
      ]
     },
     "execution_count": 6,
     "metadata": {},
     "output_type": "execute_result"
    }
   ],
   "source": [
    "# exiba a contagem de valores faltantes para cada atributo em titanic\n",
    "df_titanic.isnull().sum()"
   ]
  },
  {
   "cell_type": "markdown",
   "metadata": {},
   "source": [
    "Visualizamos que a coluna 'Age' possui valores incompletos, poderiamos eliminar essas linhas com dados faltantes, entretanto para investigarmos esse dado nós vamos simplesmente desconsiderar os registros nulos. Das 891 pessoas, 177 (aproximadamente 20%) estão com idades não preenchidas. "
   ]
  },
  {
   "cell_type": "markdown",
   "metadata": {},
   "source": [
    "Vamos juntar as colunas 'SibSp' com a coluna 'Parch', desta forma vamos ter todos os parentes relativos do passageiro na coluna 'Relatives' isso facilitará a nossa análise para a quarta pergunta que investigaremos."
   ]
  },
  {
   "cell_type": "code",
   "execution_count": 7,
   "metadata": {
    "scrolled": true
   },
   "outputs": [
    {
     "data": {
      "text/html": [
       "<div>\n",
       "<style scoped>\n",
       "    .dataframe tbody tr th:only-of-type {\n",
       "        vertical-align: middle;\n",
       "    }\n",
       "\n",
       "    .dataframe tbody tr th {\n",
       "        vertical-align: top;\n",
       "    }\n",
       "\n",
       "    .dataframe thead th {\n",
       "        text-align: right;\n",
       "    }\n",
       "</style>\n",
       "<table border=\"1\" class=\"dataframe\">\n",
       "  <thead>\n",
       "    <tr style=\"text-align: right;\">\n",
       "      <th></th>\n",
       "      <th>PassengerId</th>\n",
       "      <th>Survived</th>\n",
       "      <th>Pclass</th>\n",
       "      <th>Name</th>\n",
       "      <th>Sex</th>\n",
       "      <th>Age</th>\n",
       "      <th>SibSp</th>\n",
       "      <th>Parch</th>\n",
       "      <th>Relatives</th>\n",
       "    </tr>\n",
       "  </thead>\n",
       "  <tbody>\n",
       "    <tr>\n",
       "      <th>886</th>\n",
       "      <td>887</td>\n",
       "      <td>0</td>\n",
       "      <td>2</td>\n",
       "      <td>Montvila, Rev. Juozas</td>\n",
       "      <td>male</td>\n",
       "      <td>27.0</td>\n",
       "      <td>0</td>\n",
       "      <td>0</td>\n",
       "      <td>0</td>\n",
       "    </tr>\n",
       "    <tr>\n",
       "      <th>887</th>\n",
       "      <td>888</td>\n",
       "      <td>1</td>\n",
       "      <td>1</td>\n",
       "      <td>Graham, Miss. Margaret Edith</td>\n",
       "      <td>female</td>\n",
       "      <td>19.0</td>\n",
       "      <td>0</td>\n",
       "      <td>0</td>\n",
       "      <td>0</td>\n",
       "    </tr>\n",
       "    <tr>\n",
       "      <th>888</th>\n",
       "      <td>889</td>\n",
       "      <td>0</td>\n",
       "      <td>3</td>\n",
       "      <td>Johnston, Miss. Catherine Helen \"Carrie\"</td>\n",
       "      <td>female</td>\n",
       "      <td>NaN</td>\n",
       "      <td>1</td>\n",
       "      <td>2</td>\n",
       "      <td>3</td>\n",
       "    </tr>\n",
       "    <tr>\n",
       "      <th>889</th>\n",
       "      <td>890</td>\n",
       "      <td>1</td>\n",
       "      <td>1</td>\n",
       "      <td>Behr, Mr. Karl Howell</td>\n",
       "      <td>male</td>\n",
       "      <td>26.0</td>\n",
       "      <td>0</td>\n",
       "      <td>0</td>\n",
       "      <td>0</td>\n",
       "    </tr>\n",
       "    <tr>\n",
       "      <th>890</th>\n",
       "      <td>891</td>\n",
       "      <td>0</td>\n",
       "      <td>3</td>\n",
       "      <td>Dooley, Mr. Patrick</td>\n",
       "      <td>male</td>\n",
       "      <td>32.0</td>\n",
       "      <td>0</td>\n",
       "      <td>0</td>\n",
       "      <td>0</td>\n",
       "    </tr>\n",
       "  </tbody>\n",
       "</table>\n",
       "</div>"
      ],
      "text/plain": [
       "     PassengerId  Survived  Pclass                                      Name  \\\n",
       "886          887         0       2                     Montvila, Rev. Juozas   \n",
       "887          888         1       1              Graham, Miss. Margaret Edith   \n",
       "888          889         0       3  Johnston, Miss. Catherine Helen \"Carrie\"   \n",
       "889          890         1       1                     Behr, Mr. Karl Howell   \n",
       "890          891         0       3                       Dooley, Mr. Patrick   \n",
       "\n",
       "        Sex   Age  SibSp  Parch  Relatives  \n",
       "886    male  27.0      0      0          0  \n",
       "887  female  19.0      0      0          0  \n",
       "888  female   NaN      1      2          3  \n",
       "889    male  26.0      0      0          0  \n",
       "890    male  32.0      0      0          0  "
      ]
     },
     "execution_count": 7,
     "metadata": {},
     "output_type": "execute_result"
    }
   ],
   "source": [
    "# cria a nova coluna 'Relatives' juntando os dados das colunas 'SibSp' e 'Parch'\n",
    "df_titanic['Relatives'] = df_titanic['SibSp'] + df_titanic['Parch']\n",
    "df_titanic.tail() "
   ]
  },
  {
   "cell_type": "markdown",
   "metadata": {},
   "source": [
    "## Salvando os dados \n",
    "\n",
    "Agora vamos salvar o progresso para a próxima etapa, o que nos fará poupar tempo e trabalho, em vez de toda vez termos de realizar a limpeza ao abrir o notebook.\n"
   ]
  },
  {
   "cell_type": "code",
   "execution_count": 8,
   "metadata": {},
   "outputs": [],
   "source": [
    "# salva os novos conjuntos de dados para a próxima seção\n",
    "df_titanic.to_csv('titanic_clean.csv', index=False)"
   ]
  },
  {
   "cell_type": "markdown",
   "metadata": {},
   "source": [
    "Vamos criar um outro dataframe que utilizaremos para a quarta pergunta."
   ]
  },
  {
   "cell_type": "code",
   "execution_count": 9,
   "metadata": {
    "scrolled": true
   },
   "outputs": [
    {
     "data": {
      "text/html": [
       "<div>\n",
       "<style scoped>\n",
       "    .dataframe tbody tr th:only-of-type {\n",
       "        vertical-align: middle;\n",
       "    }\n",
       "\n",
       "    .dataframe tbody tr th {\n",
       "        vertical-align: top;\n",
       "    }\n",
       "\n",
       "    .dataframe thead th {\n",
       "        text-align: right;\n",
       "    }\n",
       "</style>\n",
       "<table border=\"1\" class=\"dataframe\">\n",
       "  <thead>\n",
       "    <tr style=\"text-align: right;\">\n",
       "      <th></th>\n",
       "      <th>PassengerId</th>\n",
       "      <th>Survived</th>\n",
       "      <th>SibSp</th>\n",
       "      <th>Parch</th>\n",
       "      <th>Relatives</th>\n",
       "    </tr>\n",
       "  </thead>\n",
       "  <tbody>\n",
       "    <tr>\n",
       "      <th>0</th>\n",
       "      <td>1</td>\n",
       "      <td>0</td>\n",
       "      <td>1</td>\n",
       "      <td>0</td>\n",
       "      <td>1</td>\n",
       "    </tr>\n",
       "    <tr>\n",
       "      <th>1</th>\n",
       "      <td>2</td>\n",
       "      <td>1</td>\n",
       "      <td>1</td>\n",
       "      <td>0</td>\n",
       "      <td>1</td>\n",
       "    </tr>\n",
       "    <tr>\n",
       "      <th>2</th>\n",
       "      <td>3</td>\n",
       "      <td>1</td>\n",
       "      <td>0</td>\n",
       "      <td>0</td>\n",
       "      <td>0</td>\n",
       "    </tr>\n",
       "    <tr>\n",
       "      <th>3</th>\n",
       "      <td>4</td>\n",
       "      <td>1</td>\n",
       "      <td>1</td>\n",
       "      <td>0</td>\n",
       "      <td>1</td>\n",
       "    </tr>\n",
       "    <tr>\n",
       "      <th>4</th>\n",
       "      <td>5</td>\n",
       "      <td>0</td>\n",
       "      <td>0</td>\n",
       "      <td>0</td>\n",
       "      <td>0</td>\n",
       "    </tr>\n",
       "  </tbody>\n",
       "</table>\n",
       "</div>"
      ],
      "text/plain": [
       "   PassengerId  Survived  SibSp  Parch  Relatives\n",
       "0            1         0      1      0          1\n",
       "1            2         1      1      0          1\n",
       "2            3         1      0      0          0\n",
       "3            4         1      1      0          1\n",
       "4            5         0      0      0          0"
      ]
     },
     "execution_count": 9,
     "metadata": {},
     "output_type": "execute_result"
    }
   ],
   "source": [
    "# exibimos as primeiras linhas da coluna 'Pclass'\n",
    "df_parents = df_titanic.iloc[:, np.r_[0:2, 6:9]]\n",
    "df_parents.head()"
   ]
  },
  {
   "cell_type": "code",
   "execution_count": 10,
   "metadata": {},
   "outputs": [],
   "source": [
    "# salva os novos conjuntos de dados para utilizarmos nesse tópico.\n",
    "df_parents.to_csv('parents_clean.csv', index=False)"
   ]
  },
  {
   "cell_type": "markdown",
   "metadata": {},
   "source": [
    "## Análise \n",
    "\n",
    "Iremos agora com a utilização de informações visuais responder as perguntas elaboradas anteriormente."
   ]
  },
  {
   "cell_type": "code",
   "execution_count": 11,
   "metadata": {},
   "outputs": [],
   "source": [
    "# abre o novo conjunto de dados que foi criado após realizarmos a limpeza dos dados\n",
    "df_titanic = pd.read_csv('titanic_clean.csv')"
   ]
  },
  {
   "cell_type": "markdown",
   "metadata": {},
   "source": [
    "### P1: Qual a idade média das pessoas que obtiveram sucesso em sobreviver ao acidente?\n",
    "\n",
    "Vamos realizar uma exploração nos dados com relação a idade.\n",
    "\n",
    "Primeiramente vamos ver quantos passageiros sobreviveram dos 891 passageiros a bordo."
   ]
  },
  {
   "cell_type": "code",
   "execution_count": 12,
   "metadata": {
    "scrolled": true
   },
   "outputs": [
    {
     "name": "stdout",
     "output_type": "stream",
     "text": [
      "Sobreviveram:  342\n",
      "Não sobreviveram:  549\n"
     ]
    }
   ],
   "source": [
    "# Saída da contagem de passageiros que sobreviveram e os que não sobreviveram ao acidente.\n",
    "print('Sobreviveram: ', df_titanic['Survived'].value_counts()[1])\n",
    "print('Não sobreviveram: ', df_titanic['Survived'].value_counts()[0])"
   ]
  },
  {
   "cell_type": "markdown",
   "metadata": {},
   "source": [
    "Vamos criar uma visualização agora do tipo \"torta\", onde ficará claro a visualização das pessoas que sobreviveram e as que não conseguiram. "
   ]
  },
  {
   "cell_type": "code",
   "execution_count": 13,
   "metadata": {
    "scrolled": true
   },
   "outputs": [
    {
     "data": {
      "image/png": "[encoded data removed]",
      "text/plain": [
       "<Figure size 432x360 with 1 Axes>"
      ]
     },
     "metadata": {},
     "output_type": "display_data"
    }
   ],
   "source": [
    "#Gera um gráfico 'pie' do percentual de pessoas que sobreviveram e que não sobreviveram ao acidente do Titanic.\n",
    "fig, ax = plt.subplots(figsize=(6, 5), subplot_kw=dict(aspect=\"equal\"))\n",
    "\n",
    "survivors = [\"Não Sobreviveram\", \"Sobreviveram\"]\n",
    "\n",
    "def func(pct, allvals):\n",
    "    # \"\"\"\n",
    "    # Função\n",
    "    # INPUT:\n",
    "    # pct: \n",
    "    # allvals: Valores a serem transformados em porcentagem.\n",
    "    # OUTPUT:\n",
    "    # Valores em forma de porcentagem e em forma absoluta.\n",
    "    # \"\"\"\n",
    "    absolute = int(pct/100.*np.sum(allvals))\n",
    "    return \"{:.1f}%\\n({:d})\".format(pct, absolute)\n",
    "\n",
    "\n",
    "wedges, texts, autotexts = ax.pie(df_titanic['Survived'].value_counts(), autopct=lambda pct: func(pct, df_titanic['Survived'].value_counts()),\n",
    "                                  textprops=dict(color=\"w\"))\n",
    "\n",
    "ax.legend(wedges, survivors, title=\"Sobreviventes\", loc=\"center left\", bbox_to_anchor=(1, 0, 0.5, 1))\n",
    "\n",
    "plt.setp(autotexts, size=12, weight=\"bold\")\n",
    "\n",
    "ax.set_title(\"Figura 1: Percentual de pessoas que Sobreviveram e que Não sobreviveram\")\n",
    "\n",
    "plt.show()"
   ]
  },
  {
   "cell_type": "markdown",
   "metadata": {},
   "source": [
    "Dos 891 passageiros do RMS Titanic apenas 38,4% deles conseguiram sobreviver."
   ]
  },
  {
   "cell_type": "code",
   "execution_count": 14,
   "metadata": {},
   "outputs": [
    {
     "data": {
      "text/html": [
       "<div>\n",
       "<style scoped>\n",
       "    .dataframe tbody tr th:only-of-type {\n",
       "        vertical-align: middle;\n",
       "    }\n",
       "\n",
       "    .dataframe tbody tr th {\n",
       "        vertical-align: top;\n",
       "    }\n",
       "\n",
       "    .dataframe thead th {\n",
       "        text-align: right;\n",
       "    }\n",
       "</style>\n",
       "<table border=\"1\" class=\"dataframe\">\n",
       "  <thead>\n",
       "    <tr style=\"text-align: right;\">\n",
       "      <th></th>\n",
       "      <th>PassengerId</th>\n",
       "      <th>Survived</th>\n",
       "      <th>Pclass</th>\n",
       "      <th>Age</th>\n",
       "      <th>SibSp</th>\n",
       "      <th>Parch</th>\n",
       "      <th>Relatives</th>\n",
       "    </tr>\n",
       "  </thead>\n",
       "  <tbody>\n",
       "    <tr>\n",
       "      <th>count</th>\n",
       "      <td>891.000000</td>\n",
       "      <td>891.000000</td>\n",
       "      <td>891.000000</td>\n",
       "      <td>714.000000</td>\n",
       "      <td>891.000000</td>\n",
       "      <td>891.000000</td>\n",
       "      <td>891.000000</td>\n",
       "    </tr>\n",
       "    <tr>\n",
       "      <th>mean</th>\n",
       "      <td>446.000000</td>\n",
       "      <td>0.383838</td>\n",
       "      <td>2.308642</td>\n",
       "      <td>29.699118</td>\n",
       "      <td>0.523008</td>\n",
       "      <td>0.381594</td>\n",
       "      <td>0.904602</td>\n",
       "    </tr>\n",
       "    <tr>\n",
       "      <th>std</th>\n",
       "      <td>257.353842</td>\n",
       "      <td>0.486592</td>\n",
       "      <td>0.836071</td>\n",
       "      <td>14.526497</td>\n",
       "      <td>1.102743</td>\n",
       "      <td>0.806057</td>\n",
       "      <td>1.613459</td>\n",
       "    </tr>\n",
       "    <tr>\n",
       "      <th>min</th>\n",
       "      <td>1.000000</td>\n",
       "      <td>0.000000</td>\n",
       "      <td>1.000000</td>\n",
       "      <td>0.420000</td>\n",
       "      <td>0.000000</td>\n",
       "      <td>0.000000</td>\n",
       "      <td>0.000000</td>\n",
       "    </tr>\n",
       "    <tr>\n",
       "      <th>25%</th>\n",
       "      <td>223.500000</td>\n",
       "      <td>0.000000</td>\n",
       "      <td>2.000000</td>\n",
       "      <td>20.125000</td>\n",
       "      <td>0.000000</td>\n",
       "      <td>0.000000</td>\n",
       "      <td>0.000000</td>\n",
       "    </tr>\n",
       "    <tr>\n",
       "      <th>50%</th>\n",
       "      <td>446.000000</td>\n",
       "      <td>0.000000</td>\n",
       "      <td>3.000000</td>\n",
       "      <td>28.000000</td>\n",
       "      <td>0.000000</td>\n",
       "      <td>0.000000</td>\n",
       "      <td>0.000000</td>\n",
       "    </tr>\n",
       "    <tr>\n",
       "      <th>75%</th>\n",
       "      <td>668.500000</td>\n",
       "      <td>1.000000</td>\n",
       "      <td>3.000000</td>\n",
       "      <td>38.000000</td>\n",
       "      <td>1.000000</td>\n",
       "      <td>0.000000</td>\n",
       "      <td>1.000000</td>\n",
       "    </tr>\n",
       "    <tr>\n",
       "      <th>max</th>\n",
       "      <td>891.000000</td>\n",
       "      <td>1.000000</td>\n",
       "      <td>3.000000</td>\n",
       "      <td>80.000000</td>\n",
       "      <td>8.000000</td>\n",
       "      <td>6.000000</td>\n",
       "      <td>10.000000</td>\n",
       "    </tr>\n",
       "  </tbody>\n",
       "</table>\n",
       "</div>"
      ],
      "text/plain": [
       "       PassengerId    Survived      Pclass         Age       SibSp  \\\n",
       "count   891.000000  891.000000  891.000000  714.000000  891.000000   \n",
       "mean    446.000000    0.383838    2.308642   29.699118    0.523008   \n",
       "std     257.353842    0.486592    0.836071   14.526497    1.102743   \n",
       "min       1.000000    0.000000    1.000000    0.420000    0.000000   \n",
       "25%     223.500000    0.000000    2.000000   20.125000    0.000000   \n",
       "50%     446.000000    0.000000    3.000000   28.000000    0.000000   \n",
       "75%     668.500000    1.000000    3.000000   38.000000    1.000000   \n",
       "max     891.000000    1.000000    3.000000   80.000000    8.000000   \n",
       "\n",
       "            Parch   Relatives  \n",
       "count  891.000000  891.000000  \n",
       "mean     0.381594    0.904602  \n",
       "std      0.806057    1.613459  \n",
       "min      0.000000    0.000000  \n",
       "25%      0.000000    0.000000  \n",
       "50%      0.000000    0.000000  \n",
       "75%      0.000000    1.000000  \n",
       "max      6.000000   10.000000  "
      ]
     },
     "execution_count": 14,
     "metadata": {},
     "output_type": "execute_result"
    }
   ],
   "source": [
    "# Vamos visualizar rapidamente estatísticas descritivas úteis para utilizarmos nessa pergunta.\n",
    "df_titanic.describe()"
   ]
  },
  {
   "cell_type": "markdown",
   "metadata": {},
   "source": [
    " Agora vamos, ver a faixa etária dos passageiros para depois descobrirmos a faixa etária que teve o maior indice de sobrevivência."
   ]
  },
  {
   "cell_type": "code",
   "execution_count": 15,
   "metadata": {},
   "outputs": [
    {
     "data": {
      "text/plain": [
       "<Figure size 432x288 with 0 Axes>"
      ]
     },
     "metadata": {},
     "output_type": "display_data"
    },
    {
     "data": {
      "image/png": "[encoded data removed]",
      "text/plain": [
       "<Figure size 720x288 with 1 Axes>"
      ]
     },
     "metadata": {
      "needs_background": "light"
     },
     "output_type": "display_data"
    }
   ],
   "source": [
    "# Gera histograma de frequencia de idade\n",
    "plt.figure();\n",
    "df_titanic.hist(column='Age', color=('blue'), alpha=0.8, bins=10, figsize=(10,4))\n",
    "plt.title('Figura 2: Faixa Etária dos Passageiros')\n",
    "plt.xlabel('Idade')\n",
    "plt.ylabel('Frequência')\n",
    "plt.show()"
   ]
  },
  {
   "cell_type": "markdown",
   "metadata": {},
   "source": [
    "Podemos ver que a maioria da tripulação está entre a faixa etária de 16 a 33 anos aproximadamente."
   ]
  },
  {
   "cell_type": "code",
   "execution_count": 16,
   "metadata": {},
   "outputs": [
    {
     "name": "stdout",
     "output_type": "stream",
     "text": [
      "0 PassengerId\n",
      "1 Survived\n",
      "2 Pclass\n",
      "3 Name\n",
      "4 Sex\n",
      "5 Age\n",
      "6 SibSp\n",
      "7 Parch\n",
      "8 Relatives\n"
     ]
    }
   ],
   "source": [
    "# Vamos visualizar o índice e rótulo de cada coluna do df_titanic\n",
    "for i, v in enumerate(df_titanic.columns):\n",
    "    print(i, v)"
   ]
  },
  {
   "cell_type": "markdown",
   "metadata": {},
   "source": [
    "Na célula abaixo nós podemos identificar as faixas etárias que tiveram uma taxa de sobrevivência maior que as outras, vamos considerar que as idades que tiveram um valor superior a 0,5 tiveram uma taxa de sobrevivência alta, já as idades com valor inferir a 0,5 tiveram uma taxa de sobrevivência baixa."
   ]
  },
  {
   "cell_type": "code",
   "execution_count": 17,
   "metadata": {},
   "outputs": [
    {
     "data": {
      "text/plain": [
       "Age\n",
       "0.42     1.000000\n",
       "0.67     1.000000\n",
       "0.75     1.000000\n",
       "0.83     1.000000\n",
       "0.92     1.000000\n",
       "1.00     0.714286\n",
       "2.00     0.300000\n",
       "3.00     0.833333\n",
       "4.00     0.700000\n",
       "5.00     1.000000\n",
       "6.00     0.666667\n",
       "7.00     0.333333\n",
       "8.00     0.500000\n",
       "9.00     0.250000\n",
       "10.00    0.000000\n",
       "11.00    0.250000\n",
       "12.00    1.000000\n",
       "13.00    1.000000\n",
       "14.00    0.500000\n",
       "14.50    0.000000\n",
       "15.00    0.800000\n",
       "16.00    0.352941\n",
       "17.00    0.461538\n",
       "18.00    0.346154\n",
       "19.00    0.360000\n",
       "20.00    0.200000\n",
       "20.50    0.000000\n",
       "21.00    0.208333\n",
       "22.00    0.407407\n",
       "23.00    0.333333\n",
       "           ...   \n",
       "44.00    0.333333\n",
       "45.00    0.416667\n",
       "45.50    0.000000\n",
       "46.00    0.000000\n",
       "47.00    0.111111\n",
       "48.00    0.666667\n",
       "49.00    0.666667\n",
       "50.00    0.500000\n",
       "51.00    0.285714\n",
       "52.00    0.500000\n",
       "53.00    1.000000\n",
       "54.00    0.375000\n",
       "55.00    0.500000\n",
       "55.50    0.000000\n",
       "56.00    0.500000\n",
       "57.00    0.000000\n",
       "58.00    0.600000\n",
       "59.00    0.000000\n",
       "60.00    0.500000\n",
       "61.00    0.000000\n",
       "62.00    0.500000\n",
       "63.00    1.000000\n",
       "64.00    0.000000\n",
       "65.00    0.000000\n",
       "66.00    0.000000\n",
       "70.00    0.000000\n",
       "70.50    0.000000\n",
       "71.00    0.000000\n",
       "74.00    0.000000\n",
       "80.00    1.000000\n",
       "Name: Survived, Length: 88, dtype: float64"
      ]
     },
     "execution_count": 17,
     "metadata": {},
     "output_type": "execute_result"
    }
   ],
   "source": [
    "# obtemos as proporções de sobrevivência para algumas idades.\n",
    "df_titanic.groupby(['Age']).mean()['Survived']"
   ]
  },
  {
   "cell_type": "code",
   "execution_count": 18,
   "metadata": {},
   "outputs": [
    {
     "data": {
      "text/plain": [
       "count    714.000000\n",
       "mean      29.699118\n",
       "std       14.526497\n",
       "min        0.420000\n",
       "25%       20.125000\n",
       "50%       28.000000\n",
       "75%       38.000000\n",
       "max       80.000000\n",
       "Name: Age, dtype: float64"
      ]
     },
     "execution_count": 18,
     "metadata": {},
     "output_type": "execute_result"
    }
   ],
   "source": [
    "# Vamos visualizar rapidamente estatísticas descritivas úteis para utilizarmos nessa pergunta.\n",
    "df_titanic.describe()['Age']"
   ]
  },
  {
   "cell_type": "markdown",
   "metadata": {},
   "source": [
    "Vamos agora criar uma visualização onde facilitará a nossa análise desses dados.\n",
    "Utilizei esses links para fazer o Histograma de sobreviventes por idade:\n",
    "\n",
    "https://pandas.pydata.org/pandas-docs/stable/reference/api/pandas.DataFrame.html"
   ]
  },
  {
   "cell_type": "code",
   "execution_count": 19,
   "metadata": {},
   "outputs": [
    {
     "data": {
      "text/plain": [
       "<Figure size 432x288 with 0 Axes>"
      ]
     },
     "metadata": {},
     "output_type": "display_data"
    },
    {
     "data": {
      "image/png": "[encoded data removed]",
      "text/plain": [
       "<Figure size 720x504 with 1 Axes>"
      ]
     },
     "metadata": {
      "needs_background": "light"
     },
     "output_type": "display_data"
    }
   ],
   "source": [
    "# Gera histograma de sobreviventes por idade\n",
    "histage_df = pd.DataFrame({'Total': df_titanic['Age'], 'Não Sobreviveram': df_titanic[df_titanic['Survived']==0]['Age'], 'Sobreviveram': df_titanic[df_titanic['Survived']==1]['Age']})\n",
    " \n",
    "plt.figure();\n",
    "\n",
    "columns=['Total', 'Não Sobreviveram', 'Sobreviveram']\n",
    "histage_df.plot.hist(color=('yellow', 'red', 'green'), alpha=0.8, bins=10, figsize=(10,7))\n",
    "plt.title('Figura 3: Sobreviventes por Idade')\n",
    "plt.xlabel('Idade')\n",
    "plt.ylabel('Frequência')\n",
    "\n",
    "plt.grid()\n",
    "\n",
    "plt.show()\n",
    "\n"
   ]
  },
  {
   "cell_type": "markdown",
   "metadata": {},
   "source": [
    "Ao analisarmos o gráfico acima, podemos ver que a faixa etária que teve o maior indice de sobrevivencia foram as crianças (de 0 a 10 anos). A faixa etária com mais baixas foi dos 16 até 30 anos."
   ]
  },
  {
   "cell_type": "markdown",
   "metadata": {},
   "source": [
    "### P2: As pessoas de qual sexo obtiveram mais sucesso em sobreviver ao incidente?\n",
    "\n",
    "Vamos realizar uma exploração nos dados com relação ao sexo agora."
   ]
  },
  {
   "cell_type": "code",
   "execution_count": 20,
   "metadata": {},
   "outputs": [
    {
     "data": {
      "text/plain": [
       "0      male\n",
       "1    female\n",
       "2    female\n",
       "3    female\n",
       "4      male\n",
       "Name: Sex, dtype: object"
      ]
     },
     "execution_count": 20,
     "metadata": {},
     "output_type": "execute_result"
    }
   ],
   "source": [
    "# exibimos as primeiras linhas da coluna 'Sex'\n",
    "df_titanic['Sex'].head()"
   ]
  },
  {
   "cell_type": "code",
   "execution_count": 21,
   "metadata": {},
   "outputs": [
    {
     "data": {
      "text/plain": [
       "Sex\n",
       "female    314\n",
       "male      577\n",
       "Name: PassengerId, dtype: int64"
      ]
     },
     "execution_count": 21,
     "metadata": {},
     "output_type": "execute_result"
    }
   ],
   "source": [
    "# Conseguimos contar dessa forma quantas vezes aparece a strings 'female' e 'male' na coluna 'Sex'.\n",
    "df_titanic.groupby(['Sex'])['PassengerId'].count()"
   ]
  },
  {
   "cell_type": "code",
   "execution_count": 22,
   "metadata": {},
   "outputs": [
    {
     "name": "stdout",
     "output_type": "stream",
     "text": [
      "Mulheres a bordo:  314\n",
      "Homens a bordo:  577\n"
     ]
    }
   ],
   "source": [
    "# Saída de quantos homens e mulheres estavam abordo.\n",
    "print('Mulheres a bordo: ', df_titanic['Sex'].value_counts()[1])\n",
    "print('Homens a bordo: ', df_titanic['Sex'].value_counts()[0])"
   ]
  },
  {
   "cell_type": "markdown",
   "metadata": {},
   "source": [
    "Com o groupby acima nós conseguimos ver que a maioria dos passageiros era do sexo masculino, vamos criar uma visualização do tipo \"pie\" agora."
   ]
  },
  {
   "cell_type": "code",
   "execution_count": 23,
   "metadata": {
    "scrolled": false
   },
   "outputs": [
    {
     "data": {
      "image/png": "[encoded data removed]",
      "text/plain": [
       "<Figure size 432x288 with 1 Axes>"
      ]
     },
     "metadata": {},
     "output_type": "display_data"
    }
   ],
   "source": [
    "# Gera um gráfico 'pie' do percentual de passageiros por Gênero ab\n",
    "homens = [df_titanic['Sex'].value_counts()[1]]\n",
    "mulheres = [df_titanic['Sex'].value_counts()[0]]\n",
    "slices = [homens, mulheres]\n",
    "genders = ['mulheres', 'homens']\n",
    "cols = ['m', 'b']\n",
    "\n",
    "wedges, texts, autotexts = plt.pie(slices, labels=genders, colors=cols, startangle=90, shadow= True, autopct='%1.0f%%')\n",
    "\n",
    "\n",
    "plt.axis('equal')\n",
    "plt.setp(autotexts, size=12, weight=\"bold\")\n",
    "plt.title('Figura 4: Percentual de passageiros por Gênero')\n",
    "plt.legend(genders, loc='best')\n",
    "plt.show()"
   ]
  },
  {
   "cell_type": "markdown",
   "metadata": {},
   "source": [
    "A maioria das pessoas abordo do Titanic, eram homens com um total de 577 (65%).\n",
    "\n",
    "\n",
    "Agora vamos, descobrir qual gênero teve o maior indice de sobrevivência, vamos utilizar um gráfico de barras para isso."
   ]
  },
  {
   "cell_type": "code",
   "execution_count": 24,
   "metadata": {
    "scrolled": true
   },
   "outputs": [
    {
     "name": "stdout",
     "output_type": "stream",
     "text": [
      "Sex     Survived\n",
      "female  0            81\n",
      "        1           233\n",
      "male    0           468\n",
      "        1           109\n",
      "Name: PassengerId, dtype: int64\n"
     ]
    }
   ],
   "source": [
    "# obtemos as contagens para cada gênero e status de sobrevivência.\n",
    "survivalsex_counts = df_titanic.groupby(['Sex', 'Survived']).count()['PassengerId']\n",
    "print(survivalsex_counts)"
   ]
  },
  {
   "cell_type": "markdown",
   "metadata": {},
   "source": [
    "Com o groupby acima nós conseguimos ver quantos passageiros de cada sexo sobreviveram e os que morreram, agora vamos criar uma visualização na forma de um gráfico barra."
   ]
  },
  {
   "cell_type": "code",
   "execution_count": 25,
   "metadata": {},
   "outputs": [
    {
     "name": "stdout",
     "output_type": "stream",
     "text": [
      "Sex\n",
      "female    314\n",
      "male      577\n",
      "Name: PassengerId, dtype: int64\n"
     ]
    }
   ],
   "source": [
    "# obtenha a contagem total dos tripulantes do sexo feminino e masculino.\n",
    "genders_totals = df_titanic.groupby(['Sex']).count()['PassengerId']\n",
    "print(genders_totals)"
   ]
  },
  {
   "cell_type": "code",
   "execution_count": 26,
   "metadata": {},
   "outputs": [
    {
     "name": "stdout",
     "output_type": "stream",
     "text": [
      "Survived\n",
      "0    0.257962\n",
      "1    0.742038\n",
      "Name: PassengerId, dtype: float64\n"
     ]
    }
   ],
   "source": [
    "# obtenha as proporções dividindo as contagens de sobrevivência do gênero feminino pelo número total de tripulantes do sexo feminino.\n",
    "female_proportions = survivalsex_counts['female'] / genders_totals['female']\n",
    "print(female_proportions)"
   ]
  },
  {
   "cell_type": "code",
   "execution_count": 27,
   "metadata": {},
   "outputs": [
    {
     "name": "stdout",
     "output_type": "stream",
     "text": [
      "Survived\n",
      "0    0.811092\n",
      "1    0.188908\n",
      "Name: PassengerId, dtype: float64\n"
     ]
    }
   ],
   "source": [
    "# obtenha as proporções dividindo as contagens de sobrevivência do gênero masculino pelo número total de tripulantes do sexo masculino.\n",
    "male_proportions = survivalsex_counts['male'] / genders_totals['male']\n",
    "print(male_proportions)"
   ]
  },
  {
   "cell_type": "markdown",
   "metadata": {},
   "source": [
    "Vamos traçar as proporções um gráfico de barras agora.\n",
    "\n",
    "Precisamos definir a localização no eixo x para cada grupo e a largura de cada barra."
   ]
  },
  {
   "cell_type": "code",
   "execution_count": 28,
   "metadata": {},
   "outputs": [],
   "source": [
    "ind = np.arange(len(female_proportions))  # a localização no eixo x dos grupos\n",
    "width = 0.35       # a largura das barras"
   ]
  },
  {
   "cell_type": "code",
   "execution_count": 29,
   "metadata": {
    "scrolled": true
   },
   "outputs": [
    {
     "data": {
      "image/png": "[encoded data removed]",
      "text/plain": [
       "<Figure size 432x288 with 1 Axes>"
      ]
     },
     "metadata": {
      "needs_background": "light"
     },
     "output_type": "display_data"
    }
   ],
   "source": [
    "# trace as barras\n",
    "female_bars = plt.bar(ind, female_proportions, width, color='m', alpha=.7, label='Mulheres')\n",
    "male_bars = plt.bar(ind + width, male_proportions, width, color='b', alpha=.7, label='Homens')\n",
    "\n",
    "# título e rótulos\n",
    "plt.ylabel('Proporção')\n",
    "plt.xlabel('Sobrevivência')\n",
    "plt.title('Figura 5: Proporção de passageiros sobreviventes e não sobreviventes pelo sexo')\n",
    "locations = ind + width / 2  # localização dos marcadores no eixo x\n",
    "labels = ['Não Sobreviveram', 'Sobreviveram']  # rótulos dos marcadores no eixo x\n",
    "plt.xticks(locations, labels)\n",
    "\n",
    "# legenda\n",
    "plt.grid()\n",
    "plt.legend(loc='best')\n",
    "plt.show()\n"
   ]
  },
  {
   "cell_type": "markdown",
   "metadata": {},
   "source": [
    "Através do gráfico acima, podemos ver que menos de 20% dos homens sobreviveram e mais de 70% das mulheres sobreviveram."
   ]
  },
  {
   "cell_type": "markdown",
   "metadata": {},
   "source": [
    "### P3: As pessoas de qual classe obtiveram mais sucesso em sobreviver ao acidente?\n",
    "\n",
    "Vamos realizar uma exploração nos dados com relação a classe agora."
   ]
  },
  {
   "cell_type": "code",
   "execution_count": 30,
   "metadata": {},
   "outputs": [
    {
     "data": {
      "text/plain": [
       "0    3\n",
       "1    1\n",
       "2    3\n",
       "3    1\n",
       "4    3\n",
       "Name: Pclass, dtype: int64"
      ]
     },
     "execution_count": 30,
     "metadata": {},
     "output_type": "execute_result"
    }
   ],
   "source": [
    "# exibimos as primeiras linhas da coluna 'Pclass'\n",
    "df_titanic['Pclass'].head()"
   ]
  },
  {
   "cell_type": "code",
   "execution_count": 31,
   "metadata": {
    "scrolled": false
   },
   "outputs": [
    {
     "data": {
      "text/plain": [
       "count    891.000000\n",
       "mean       2.308642\n",
       "std        0.836071\n",
       "min        1.000000\n",
       "25%        2.000000\n",
       "50%        3.000000\n",
       "75%        3.000000\n",
       "max        3.000000\n",
       "Name: Pclass, dtype: float64"
      ]
     },
     "execution_count": 31,
     "metadata": {},
     "output_type": "execute_result"
    }
   ],
   "source": [
    "# Vamos visualizar rapidamente estatísticas descritivas úteis para utilizarmos nessa pergunta.\n",
    "df_titanic['Pclass'].describe()"
   ]
  },
  {
   "cell_type": "code",
   "execution_count": 32,
   "metadata": {},
   "outputs": [
    {
     "data": {
      "text/plain": [
       "Pclass\n",
       "1    216\n",
       "2    184\n",
       "3    491\n",
       "Name: PassengerId, dtype: int64"
      ]
     },
     "execution_count": 32,
     "metadata": {},
     "output_type": "execute_result"
    }
   ],
   "source": [
    "# Conseguimos contar dessa forma quantos passageiros pertenciam em cada classe na coluna 'Pclass'.\n",
    "df_titanic.groupby(['Pclass'])['PassengerId'].count()"
   ]
  },
  {
   "cell_type": "code",
   "execution_count": 33,
   "metadata": {},
   "outputs": [
    {
     "name": "stdout",
     "output_type": "stream",
     "text": [
      "Passageiros na primeira classe:  216\n",
      "Passageiros na segunda classe:  184\n",
      "Passageiros na terceira classe:  491\n"
     ]
    }
   ],
   "source": [
    "# Saída de passageiros na primeira, segunda e terceira classe.\n",
    "print('Passageiros na primeira classe: ', df_titanic['Pclass'].value_counts()[1])\n",
    "print('Passageiros na segunda classe: ', df_titanic['Pclass'].value_counts()[2])\n",
    "print('Passageiros na terceira classe: ', df_titanic['Pclass'].value_counts()[3])"
   ]
  },
  {
   "cell_type": "markdown",
   "metadata": {},
   "source": [
    "Com o groupby acima nós conseguimos ver que a maioria dos passageiros eram da terceira classe, vamos criar uma visualização do tipo \"pie\" agora, para facilitar a visualização da distribuição dos tripulantes por classe no RMS Titanic."
   ]
  },
  {
   "cell_type": "code",
   "execution_count": 34,
   "metadata": {},
   "outputs": [
    {
     "data": {
      "image/png": "[encoded data removed]",
      "text/plain": [
       "<Figure size 432x288 with 1 Axes>"
      ]
     },
     "metadata": {},
     "output_type": "display_data"
    }
   ],
   "source": [
    "# Gera um gráfico 'pie' do percentual de passageiros por Classe abordo do Titanic\n",
    "first_class = [df_titanic['Pclass'].value_counts()[1]]\n",
    "second_class = [df_titanic['Pclass'].value_counts()[2]]\n",
    "third_class = [df_titanic['Pclass'].value_counts()[3]]\n",
    "\n",
    "slices = [first_class, second_class, third_class]\n",
    "classes = ['primeira classe', 'segunda classe', 'terceira classe']\n",
    "cols = ['g', 'b', 'r']\n",
    "\n",
    "wedges, texts, autotexts = plt.pie(slices, labels=classes, colors=cols, startangle=90, shadow= True, autopct='%1.0f%%')\n",
    "\n",
    "\n",
    "plt.axis('equal')\n",
    "plt.setp(autotexts, size=12, weight=\"bold\")\n",
    "plt.title('Figura 6: Percentual de passageiros por Classe')\n",
    "plt.legend(classes, loc='best')\n",
    "plt.show()"
   ]
  },
  {
   "cell_type": "markdown",
   "metadata": {},
   "source": [
    "Agora vamos, descobrir qual classe teve o maior indice de sobrevivência, vamos utilizar um gráfico de barras para isso."
   ]
  },
  {
   "cell_type": "code",
   "execution_count": 35,
   "metadata": {},
   "outputs": [
    {
     "name": "stdout",
     "output_type": "stream",
     "text": [
      "Pclass  Survived\n",
      "1       0            80\n",
      "        1           136\n",
      "2       0            97\n",
      "        1            87\n",
      "3       0           372\n",
      "        1           119\n",
      "Name: PassengerId, dtype: int64\n"
     ]
    }
   ],
   "source": [
    "# obtemos as contagens para cada classe e status de sobrevivência\n",
    "survivalclass_counts = df_titanic.groupby(['Pclass', 'Survived']).count()['PassengerId']\n",
    "print(survivalclass_counts)"
   ]
  },
  {
   "cell_type": "markdown",
   "metadata": {},
   "source": [
    "Com o groupby acima nós conseguimos ver quantos passageiros de cada classe sobreviveram e os que morreram, agora vamos criar uma visualização na forma de um gráfico barra."
   ]
  },
  {
   "cell_type": "code",
   "execution_count": 36,
   "metadata": {
    "scrolled": true
   },
   "outputs": [
    {
     "name": "stdout",
     "output_type": "stream",
     "text": [
      "Pclass\n",
      "1    216\n",
      "2    184\n",
      "3    491\n",
      "Name: PassengerId, dtype: int64\n"
     ]
    }
   ],
   "source": [
    "# obtenha a contagem total dos tripulantes de cada classe.\n",
    "class_totals = df_titanic.groupby(['Pclass']).count()['PassengerId']\n",
    "print(class_totals)"
   ]
  },
  {
   "cell_type": "code",
   "execution_count": 37,
   "metadata": {},
   "outputs": [
    {
     "name": "stdout",
     "output_type": "stream",
     "text": [
      "Survived\n",
      "0    0.37037\n",
      "1    0.62963\n",
      "Name: PassengerId, dtype: float64\n"
     ]
    }
   ],
   "source": [
    "# obtenha as proporções dividindo as contagens de sobrevivência da primeira classe pelo número total de tripulantes da primeira classe.\n",
    "firstclass_proportions = survivalclass_counts[1] / class_totals[1]\n",
    "print(firstclass_proportions)"
   ]
  },
  {
   "cell_type": "code",
   "execution_count": 38,
   "metadata": {},
   "outputs": [
    {
     "name": "stdout",
     "output_type": "stream",
     "text": [
      "Survived\n",
      "0    0.527174\n",
      "1    0.472826\n",
      "Name: PassengerId, dtype: float64\n"
     ]
    }
   ],
   "source": [
    "# obtenha as proporções dividindo as contagens de sobrevivência da segunda classe pelo número total de tripulantes da segunda classe.\n",
    "secondclass_proportions = survivalclass_counts[2] / class_totals[2]\n",
    "print(secondclass_proportions)"
   ]
  },
  {
   "cell_type": "code",
   "execution_count": 39,
   "metadata": {},
   "outputs": [
    {
     "name": "stdout",
     "output_type": "stream",
     "text": [
      "Survived\n",
      "0    0.757637\n",
      "1    0.242363\n",
      "Name: PassengerId, dtype: float64\n"
     ]
    }
   ],
   "source": [
    "# obtenha as proporções dividindo as contagens de sobrevivência da terceira classe pelo número total de tripulantes da terceira classe.\n",
    "thirdclass_proportions = survivalclass_counts[3] / class_totals[3]\n",
    "print(thirdclass_proportions)"
   ]
  },
  {
   "cell_type": "markdown",
   "metadata": {},
   "source": [
    "Vamos traçar as proporções um gráfico de barras agora.\n",
    "\n",
    "Precisamos definir a localização no eixo x para cada grupo e a largura de cada barra."
   ]
  },
  {
   "cell_type": "code",
   "execution_count": 40,
   "metadata": {},
   "outputs": [],
   "source": [
    "ind = np.arange(len(thirdclass_proportions))  # a localização no eixo x dos grupos\n",
    "width = 0.3       # a largura das barras"
   ]
  },
  {
   "cell_type": "code",
   "execution_count": 41,
   "metadata": {},
   "outputs": [
    {
     "data": {
      "image/png": "[encoded data removed]",
      "text/plain": [
       "<Figure size 432x288 with 1 Axes>"
      ]
     },
     "metadata": {
      "needs_background": "light"
     },
     "output_type": "display_data"
    }
   ],
   "source": [
    "# trace as barras\n",
    "firstclass_bars = plt.bar(ind, firstclass_proportions, width, color='g', alpha=.7, label='Primeira classe')\n",
    "secondclass_bars = plt.bar(ind + width, secondclass_proportions, width, color='b', alpha=.7, label='Segunda Classe')\n",
    "thirdclass_bars = plt.bar(ind + 2 * width, thirdclass_proportions, width, color='r', alpha=.7, label='Terceira Classe')\n",
    "\n",
    "# título e rótulos\n",
    "plt.ylabel('Proporção')\n",
    "plt.xlabel('Sobrevivência')\n",
    "plt.title('Figura 7: Proporção de passageiros sobreviventes e não sobreviventes por classe')\n",
    "locations = ind + width / 2  # localização dos marcadores no eixo x\n",
    "labels = ['Não Sobreviveram', 'Sobreviveram']  # rótulos dos marcadores no eixo x\n",
    "plt.xticks(locations, labels)\n",
    "\n",
    "# legenda\n",
    "plt.grid()\n",
    "plt.legend(loc='best')\n",
    "plt.show()\n"
   ]
  },
  {
   "cell_type": "markdown",
   "metadata": {},
   "source": [
    "Através do gráfico acima, podemos ver que menos de 30% dos passageiros da terceira classe sobreviveram foi a classe com o menor indice de sobrevivência. Além disso, a podemos ver que mais de 60% dos tripulantes da primeira classe sobreviveram, esta foi a classe com o maior índice de sobrevivência. Por fim, vemos que menos de 50% dos passageiros da segunda classe sobreviveram ao indicente do RMS Titanic."
   ]
  },
  {
   "cell_type": "markdown",
   "metadata": {},
   "source": [
    "### P4: Quantos passageiros possuiam parentes relativos que embarcaram no Titanic e quantos desses passageiros sobreviveram?\n",
    "\n",
    "Vamos realizar uma exploração nos dados com relação a relações familiares agora.\n",
    "\n",
    "Vamos trabalhar com um novo data_frame para essa parte."
   ]
  },
  {
   "cell_type": "code",
   "execution_count": 42,
   "metadata": {},
   "outputs": [],
   "source": [
    "# abre o conjunto de dados que foi criado anteriormente quando realizavamos a limpeza dos dados\n",
    "df_parents = pd.read_csv('parents_clean.csv')"
   ]
  },
  {
   "cell_type": "code",
   "execution_count": 43,
   "metadata": {},
   "outputs": [
    {
     "data": {
      "text/html": [
       "<div>\n",
       "<style scoped>\n",
       "    .dataframe tbody tr th:only-of-type {\n",
       "        vertical-align: middle;\n",
       "    }\n",
       "\n",
       "    .dataframe tbody tr th {\n",
       "        vertical-align: top;\n",
       "    }\n",
       "\n",
       "    .dataframe thead th {\n",
       "        text-align: right;\n",
       "    }\n",
       "</style>\n",
       "<table border=\"1\" class=\"dataframe\">\n",
       "  <thead>\n",
       "    <tr style=\"text-align: right;\">\n",
       "      <th></th>\n",
       "      <th>PassengerId</th>\n",
       "      <th>Survived</th>\n",
       "      <th>SibSp</th>\n",
       "      <th>Parch</th>\n",
       "      <th>Relatives</th>\n",
       "    </tr>\n",
       "  </thead>\n",
       "  <tbody>\n",
       "    <tr>\n",
       "      <th>0</th>\n",
       "      <td>1</td>\n",
       "      <td>0</td>\n",
       "      <td>1</td>\n",
       "      <td>0</td>\n",
       "      <td>1</td>\n",
       "    </tr>\n",
       "    <tr>\n",
       "      <th>1</th>\n",
       "      <td>2</td>\n",
       "      <td>1</td>\n",
       "      <td>1</td>\n",
       "      <td>0</td>\n",
       "      <td>1</td>\n",
       "    </tr>\n",
       "    <tr>\n",
       "      <th>2</th>\n",
       "      <td>3</td>\n",
       "      <td>1</td>\n",
       "      <td>0</td>\n",
       "      <td>0</td>\n",
       "      <td>0</td>\n",
       "    </tr>\n",
       "    <tr>\n",
       "      <th>3</th>\n",
       "      <td>4</td>\n",
       "      <td>1</td>\n",
       "      <td>1</td>\n",
       "      <td>0</td>\n",
       "      <td>1</td>\n",
       "    </tr>\n",
       "    <tr>\n",
       "      <th>4</th>\n",
       "      <td>5</td>\n",
       "      <td>0</td>\n",
       "      <td>0</td>\n",
       "      <td>0</td>\n",
       "      <td>0</td>\n",
       "    </tr>\n",
       "  </tbody>\n",
       "</table>\n",
       "</div>"
      ],
      "text/plain": [
       "   PassengerId  Survived  SibSp  Parch  Relatives\n",
       "0            1         0      1      0          1\n",
       "1            2         1      1      0          1\n",
       "2            3         1      0      0          0\n",
       "3            4         1      1      0          1\n",
       "4            5         0      0      0          0"
      ]
     },
     "execution_count": 43,
     "metadata": {},
     "output_type": "execute_result"
    }
   ],
   "source": [
    "# exibimos as primeiras linhas do novo dataframe\n",
    "df_parents.head()"
   ]
  },
  {
   "cell_type": "code",
   "execution_count": 44,
   "metadata": {
    "scrolled": true
   },
   "outputs": [
    {
     "data": {
      "text/html": [
       "<div>\n",
       "<style scoped>\n",
       "    .dataframe tbody tr th:only-of-type {\n",
       "        vertical-align: middle;\n",
       "    }\n",
       "\n",
       "    .dataframe tbody tr th {\n",
       "        vertical-align: top;\n",
       "    }\n",
       "\n",
       "    .dataframe thead th {\n",
       "        text-align: right;\n",
       "    }\n",
       "</style>\n",
       "<table border=\"1\" class=\"dataframe\">\n",
       "  <thead>\n",
       "    <tr style=\"text-align: right;\">\n",
       "      <th></th>\n",
       "      <th>PassengerId</th>\n",
       "      <th>Survived</th>\n",
       "      <th>SibSp</th>\n",
       "      <th>Parch</th>\n",
       "      <th>Relatives</th>\n",
       "    </tr>\n",
       "  </thead>\n",
       "  <tbody>\n",
       "    <tr>\n",
       "      <th>count</th>\n",
       "      <td>891.000000</td>\n",
       "      <td>891.000000</td>\n",
       "      <td>891.000000</td>\n",
       "      <td>891.000000</td>\n",
       "      <td>891.000000</td>\n",
       "    </tr>\n",
       "    <tr>\n",
       "      <th>mean</th>\n",
       "      <td>446.000000</td>\n",
       "      <td>0.383838</td>\n",
       "      <td>0.523008</td>\n",
       "      <td>0.381594</td>\n",
       "      <td>0.904602</td>\n",
       "    </tr>\n",
       "    <tr>\n",
       "      <th>std</th>\n",
       "      <td>257.353842</td>\n",
       "      <td>0.486592</td>\n",
       "      <td>1.102743</td>\n",
       "      <td>0.806057</td>\n",
       "      <td>1.613459</td>\n",
       "    </tr>\n",
       "    <tr>\n",
       "      <th>min</th>\n",
       "      <td>1.000000</td>\n",
       "      <td>0.000000</td>\n",
       "      <td>0.000000</td>\n",
       "      <td>0.000000</td>\n",
       "      <td>0.000000</td>\n",
       "    </tr>\n",
       "    <tr>\n",
       "      <th>25%</th>\n",
       "      <td>223.500000</td>\n",
       "      <td>0.000000</td>\n",
       "      <td>0.000000</td>\n",
       "      <td>0.000000</td>\n",
       "      <td>0.000000</td>\n",
       "    </tr>\n",
       "    <tr>\n",
       "      <th>50%</th>\n",
       "      <td>446.000000</td>\n",
       "      <td>0.000000</td>\n",
       "      <td>0.000000</td>\n",
       "      <td>0.000000</td>\n",
       "      <td>0.000000</td>\n",
       "    </tr>\n",
       "    <tr>\n",
       "      <th>75%</th>\n",
       "      <td>668.500000</td>\n",
       "      <td>1.000000</td>\n",
       "      <td>1.000000</td>\n",
       "      <td>0.000000</td>\n",
       "      <td>1.000000</td>\n",
       "    </tr>\n",
       "    <tr>\n",
       "      <th>max</th>\n",
       "      <td>891.000000</td>\n",
       "      <td>1.000000</td>\n",
       "      <td>8.000000</td>\n",
       "      <td>6.000000</td>\n",
       "      <td>10.000000</td>\n",
       "    </tr>\n",
       "  </tbody>\n",
       "</table>\n",
       "</div>"
      ],
      "text/plain": [
       "       PassengerId    Survived       SibSp       Parch   Relatives\n",
       "count   891.000000  891.000000  891.000000  891.000000  891.000000\n",
       "mean    446.000000    0.383838    0.523008    0.381594    0.904602\n",
       "std     257.353842    0.486592    1.102743    0.806057    1.613459\n",
       "min       1.000000    0.000000    0.000000    0.000000    0.000000\n",
       "25%     223.500000    0.000000    0.000000    0.000000    0.000000\n",
       "50%     446.000000    0.000000    0.000000    0.000000    0.000000\n",
       "75%     668.500000    1.000000    1.000000    0.000000    1.000000\n",
       "max     891.000000    1.000000    8.000000    6.000000   10.000000"
      ]
     },
     "execution_count": 44,
     "metadata": {},
     "output_type": "execute_result"
    }
   ],
   "source": [
    "# Vamos visualizar rapidamente estatísticas descritivas úteis para utilizarmos nessa pergunta.\n",
    "df_parents.describe()"
   ]
  },
  {
   "cell_type": "code",
   "execution_count": 45,
   "metadata": {},
   "outputs": [
    {
     "name": "stdout",
     "output_type": "stream",
     "text": [
      "Número de irmãos e/ou cônjuges abordo:  466\n",
      "Número de pais e/ou filhos a bordo:  340\n",
      "Número de parentes relativos a bordo:  806\n"
     ]
    }
   ],
   "source": [
    "# Saída dos totais de 'SibSp', 'Parch' e 'Relatives'.\n",
    "print('Número de irmãos e/ou cônjuges abordo: ', df_parents['SibSp'].sum())\n",
    "print('Número de pais e/ou filhos a bordo: ', df_parents['Parch'].sum())\n",
    "print('Número de parentes relativos a bordo: ', df_parents['Relatives'].sum())"
   ]
  },
  {
   "cell_type": "code",
   "execution_count": 46,
   "metadata": {
    "scrolled": false
   },
   "outputs": [
    {
     "data": {
      "text/plain": [
       "SibSp\n",
       "0    608\n",
       "1    209\n",
       "2     28\n",
       "3     16\n",
       "4     18\n",
       "5      5\n",
       "8      7\n",
       "Name: PassengerId, dtype: int64"
      ]
     },
     "execution_count": 46,
     "metadata": {},
     "output_type": "execute_result"
    }
   ],
   "source": [
    "# Conseguimos contar dessa forma quantos passageiros possuiam irmãos e/ou cônjuges abordo.  \n",
    "df_parents.groupby(['SibSp'])['PassengerId'].count()"
   ]
  },
  {
   "cell_type": "markdown",
   "metadata": {},
   "source": [
    "Podemos ver quantos passageiros tinham irmãos e/ou cônjuges abordo de forma especifica, por exemplo 209 passageiros tinham pelo menos 1 irmão ou cônjuge abordo."
   ]
  },
  {
   "cell_type": "code",
   "execution_count": 47,
   "metadata": {},
   "outputs": [
    {
     "data": {
      "text/plain": [
       "Parch\n",
       "0    678\n",
       "1    118\n",
       "2     80\n",
       "3      5\n",
       "4      4\n",
       "5      5\n",
       "6      1\n",
       "Name: PassengerId, dtype: int64"
      ]
     },
     "execution_count": 47,
     "metadata": {},
     "output_type": "execute_result"
    }
   ],
   "source": [
    "# Conseguimos contar dessa forma quantos passageiros possuiam pais e/ou filhos abordo.  \n",
    "df_parents.groupby(['Parch'])['PassengerId'].count()"
   ]
  },
  {
   "cell_type": "markdown",
   "metadata": {},
   "source": [
    "Podemos ver quantos passageiros tinham pais e/ou filhos abordo de forma especifica, por exemplo 118 passageiros tinham pelo menos 1 pai ou filho abordo."
   ]
  },
  {
   "cell_type": "code",
   "execution_count": 48,
   "metadata": {},
   "outputs": [
    {
     "data": {
      "text/plain": [
       "Relatives\n",
       "0     537\n",
       "1     161\n",
       "2     102\n",
       "3      29\n",
       "4      15\n",
       "5      22\n",
       "6      12\n",
       "7       6\n",
       "10      7\n",
       "Name: PassengerId, dtype: int64"
      ]
     },
     "execution_count": 48,
     "metadata": {},
     "output_type": "execute_result"
    }
   ],
   "source": [
    "# Conseguimos contar dessa forma quantos passageiros possuiam parentes relativos abordo.  \n",
    "df_parents.groupby(['Relatives'])['PassengerId'].count()"
   ]
  },
  {
   "cell_type": "code",
   "execution_count": 49,
   "metadata": {
    "scrolled": true
   },
   "outputs": [
    {
     "data": {
      "image/png": "[encoded data removed]",
      "text/plain": [
       "<Figure size 432x288 with 1 Axes>"
      ]
     },
     "metadata": {},
     "output_type": "display_data"
    }
   ],
   "source": [
    "# Gera um gráfico 'pie' do percentual de passageiros que possuem parentes relativos abordo do Titanic\n",
    "sibsp_relations = [df_parents['SibSp'].sum()]\n",
    "parch_relations = [df_parents['Parch'].sum()]\n",
    "\n",
    "slices = [sibsp_relations, parch_relations]\n",
    "relations = ['possuem irmãos e/ou cônjuges', 'possuem pais e/ou filhos']\n",
    "cols = ['g', 'b', 'r']\n",
    "\n",
    "wedges, texts, autotexts = plt.pie(slices, labels=relations, colors=cols, startangle=90, shadow= True, autopct='%1.0f%%')\n",
    "\n",
    "\n",
    "plt.axis('equal')\n",
    "plt.setp(autotexts, size=12, weight=\"bold\")\n",
    "plt.title('Figura 8: Percentual de passageiros que possuem algum tipo de parente relativo')\n",
    "plt.legend(relations, loc='best')\n",
    "plt.show()"
   ]
  },
  {
   "cell_type": "markdown",
   "metadata": {},
   "source": [
    "É importante ressaltar que os passageiros podem ter tanto irmãos e/ou cônjuges quanto pais e/ou filhos abordo.\n",
    "\n",
    "Agora vamos descobrir quantos desses sobreviveram, vamos utilizar um gráfico histograma para isso."
   ]
  },
  {
   "cell_type": "code",
   "execution_count": 50,
   "metadata": {
    "scrolled": true
   },
   "outputs": [
    {
     "name": "stdout",
     "output_type": "stream",
     "text": [
      "Relatives  Survived\n",
      "0          0           374\n",
      "           1           163\n",
      "1          0            72\n",
      "           1            89\n",
      "2          0            43\n",
      "           1            59\n",
      "3          0             8\n",
      "           1            21\n",
      "4          0            12\n",
      "           1             3\n",
      "5          0            19\n",
      "           1             3\n",
      "6          0             8\n",
      "           1             4\n",
      "7          0             6\n",
      "10         0             7\n",
      "Name: PassengerId, dtype: int64\n"
     ]
    }
   ],
   "source": [
    "# obtemos as contagens para cada pessoa que possuia um parente abordo e o status de sobrevivência\n",
    "survivalrelatives_counts = df_parents.groupby(['Relatives', 'Survived']).count()['PassengerId']\n",
    "print(survivalrelatives_counts)"
   ]
  },
  {
   "cell_type": "markdown",
   "metadata": {},
   "source": [
    "Com o groupby acima nós conseguimos ver quantos passageiros que possuiam parentes sobreviveram e os que morreram, agora vamos criar uma visualização na forma de um histograma."
   ]
  },
  {
   "cell_type": "code",
   "execution_count": 51,
   "metadata": {
    "scrolled": false
   },
   "outputs": [
    {
     "name": "stdout",
     "output_type": "stream",
     "text": [
      "Relatives\n",
      "0     537\n",
      "1     161\n",
      "2     102\n",
      "3      29\n",
      "4      15\n",
      "5      22\n",
      "6      12\n",
      "7       6\n",
      "10      7\n",
      "Name: PassengerId, dtype: int64\n"
     ]
    }
   ],
   "source": [
    "# obtenha a contagem total dos tripulantes de cada classe.\n",
    "relatives_totals = df_parents.groupby(['Relatives']).count()['PassengerId']\n",
    "print(relatives_totals)"
   ]
  },
  {
   "cell_type": "code",
   "execution_count": 52,
   "metadata": {},
   "outputs": [
    {
     "data": {
      "text/plain": [
       "<Figure size 432x288 with 0 Axes>"
      ]
     },
     "metadata": {},
     "output_type": "display_data"
    },
    {
     "data": {
      "image/png": "[encoded data removed]",
      "text/plain": [
       "<Figure size 720x504 with 1 Axes>"
      ]
     },
     "metadata": {
      "needs_background": "light"
     },
     "output_type": "display_data"
    }
   ],
   "source": [
    "# Gera histograma de sobreviventes que possuiam parentes abordo\n",
    "histrelatives_df = pd.DataFrame({'Total': df_parents['Relatives'], 'Não Sobreviveram': df_parents[df_parents['Survived']==0]['Relatives'], 'Sobreviveram': df_parents[df_parents['Survived']==1]['Relatives']})\n",
    " \n",
    "plt.figure();\n",
    "\n",
    "columns=['Total', 'Não Sobreviveram', 'Sobreviveram']\n",
    "histrelatives_df.plot.hist(color=('y', 'r', 'g'), alpha=0.8, bins=10, figsize=(10,7))\n",
    "plt.title('Figura 9: Sobreviventes que possuiam parentes abordo')\n",
    "plt.xlabel('Parentes')\n",
    "plt.ylabel('Frequência')\n",
    "\n",
    "plt.grid()\n",
    "\n",
    "plt.show()\n"
   ]
  },
  {
   "cell_type": "markdown",
   "metadata": {},
   "source": [
    "No gráfico acima vemos que os passageiros que participavam do intervalo de 1 parente relativo até 3 parentes tiveram o maior indice de sobreviência. Já as outras pessoas tiveram um índice de sobrevivência muito baixo."
   ]
  },
  {
   "cell_type": "markdown",
   "metadata": {},
   "source": [
    "## Conclusão\n",
    "\n",
    "Através da análise feita buscamos descobrir que atributos estavam associados a uma maior taxa de sobrevivência. Nós identificamos os atributos que influenciaram na sobrevivência dos passageiros do RMS Titanic. Atributos como a idade, o sexo, a classe e o fato do passageiro ter parentes abordo.\n",
    "\n",
    "Por meio do estudo dos dados da idade, foi possível identificar que a faixa etária que teve o maior indice de sobrevivencia foram as crianças (de 0 a 10 anos), e a faixa etária com mais baixas foi dos jovens adultos de (16 até 30 anos), um dos problemas encontrados ao realizar esse estudo foram os dados incompletos da idade de alguns passageiros, desta forma a análise não foi 100 % completa, foi realizado uma análise parcial dos dados que possuíamos na coluna 'Age'.\n",
    "\n",
    "Além disso, foi realizado um estudo levando em conta o gênero dos passageiros, visualizamos que mais da metade dos passageiros era composta por homens, sendo que apenas 20% dos mesmos sobreviveram e mais de 70% das mulheres sobreviveram.\n",
    "\n",
    "Em outro estudo realizado nós constatamos, os passageiros tiveram o menor indice de sobrevivência, e os da primeira classe tiveram o maior índice de sobrevivência.\n",
    "\n",
    "Por fim, vimos que os passageiros que não possuíam parentes relativos foram os que tiveram mais baixas em relação a aqueles que tinham entre 1 a 3 parentes abordo.\n",
    "\n",
    "Este estudo ele não é definitivo, e pode ser continuado com a análise de outras variáveis, é possivel explorar e encontrar novos insights interessantes, analisando outros dados ou os mesmos ainda buscando relacionar-los."
   ]
  },
  {
   "cell_type": "markdown",
   "metadata": {},
   "source": [
    "## Bibliografia\n",
    "\n",
    "Escreva os links que vocês usaram para escrever esse projeto."
   ]
  },
  {
   "cell_type": "markdown",
   "metadata": {},
   "source": [
    "https://seuhistory.com/hoje-na-historia/inicia-se-tragedia-do-titanic\n",
    "\n",
    "https://pt.wikipedia.org/wiki/RMS_Titanic\n",
    "\n",
    "https://www.kaggle.com/c/titanic/data\n",
    "\n",
    "https://matplotlib.org/gallery/index.html\n",
    "\n",
    "https://matplotlib.org/tutorials/index.html\n",
    "\n",
    "http://pandas.pydata.org/pandas-docs/stable/\n",
    "\n",
    "https://medium.com/marciojesus/investigando-o-naufrágio-do-titanic-b478c7750d31\n",
    "\n",
    "https://docs.scipy.org/doc/numpy-1.16.1/reference/\n",
    "\n",
    "https://matplotlib.org/api/_as_gen/matplotlib.pyplot.pie.html#matplotlib.pyplot.pie\n",
    "\n",
    "https://matplotlib.org/gallery/pie_and_polar_charts/pie_and_donut_labels.html#sphx-glr-gallery-pie-and-polar-charts-pie-and-donut-labels-py\n",
    "\n",
    "https://stackoverflow.com/"
   ]
  }
 ],
 "metadata": {
  "kernelspec": {
   "display_name": "Python 3",
   "language": "python",
   "name": "python3"
  },
  "language_info": {
   "codemirror_mode": {
    "name": "ipython",
    "version": 3
   },
   "file_extension": ".py",
   "mimetype": "text/x-python",
   "name": "python",
   "nbconvert_exporter": "python",
   "pygments_lexer": "ipython3",
   "version": "3.7.2"
  }
 },
 "nbformat": 4,
 "nbformat_minor": 2
}
